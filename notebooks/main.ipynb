{
 "cells": [
  {
   "cell_type": "markdown",
   "metadata": {
    "slideshow": {
     "slide_type": "slide"
    }
   },
   "source": [
    "# Data & ML @Go-Jek \n",
    "\n",
    "#### 3 December 2018, 7:35pm - 8:05pm\n",
    "\n",
    "#### Guo Jun\n",
    "#### Data Science, Gojek\n",
    "#### go-jun@go-jek.com"
   ]
  },
  {
   "cell_type": "markdown",
   "metadata": {
    "slideshow": {
     "slide_type": "slide"
    }
   },
   "source": [
    "## Content\n",
    "\n",
    "1. The problem of surge pricing\n",
    "2. Why we needed clustering for better surge\n",
    "3. Why we picked python to write the clustering service\n",
    "4. What we learnt"
   ]
  },
  {
   "cell_type": "markdown",
   "metadata": {
    "slideshow": {
     "slide_type": "slide"
    }
   },
   "source": [
    "## Why Surge Pricing?\n",
    "\n",
    "1. Helps ensure a reliable service.\n",
    "2. Defend for our supply of drivers.\n",
    "\n",
    "Surge is the manipulating in real time situation of market (demand & supply)\n",
    "disequilibrium to bring market back to equilibrium.\n"
   ]
  },
  {
   "cell_type": "markdown",
   "metadata": {
    "slideshow": {
     "slide_type": "slide"
    }
   },
   "source": [
    "## Economics 101\n",
    "![Economics 101](assets/surge_econ.jpg)\n",
    "\n",
    "We maximise number of completed bookings when we set price at P*. "
   ]
  },
  {
   "attachments": {},
   "cell_type": "markdown",
   "metadata": {
    "slideshow": {
     "slide_type": "slide"
    }
   },
   "source": [
    "## Our initial version of surge\n",
    "\n",
    "Applies a formula on spaces divided into buckets of grid shape where the inputs are demand and supply of the area.\n",
    "Looks something like this:\n",
    "\n",
    "![Naive Surge](assets/naive_surge.png)\n",
    "\n",
    "It actually works pretty a-okay!"
   ]
  },
  {
   "cell_type": "markdown",
   "metadata": {
    "slideshow": {
     "slide_type": "subslide"
    }
   },
   "source": [
    "### What are some issues?\n",
    "\n",
    "* Hackable (Walk to the next street etc...)\n",
    "\n",
    "TODO: ADD SOME PICS\n",
    "https://www.telegraph.co.uk/technology/2017/08/02/uber-drivers-gang-cause-surge-pricing-research-says/\n",
    "https://www.bbc.com/news/av/business-42661404/surge-pricing-how-it-works-and-how-to-avoid-it"
   ]
  },
  {
   "cell_type": "markdown",
   "metadata": {
    "slideshow": {
     "slide_type": "subslide"
    }
   },
   "source": [
    "* Slow to react (Not predictive)\n",
    "* Just ugly"
   ]
  },
  {
   "cell_type": "markdown",
   "metadata": {
    "slideshow": {
     "slide_type": "subslide"
    }
   },
   "source": [
    "We need to find a way to group similar \"geospatial buckets\" sounds like a clustering problem."
   ]
  },
  {
   "attachments": {},
   "cell_type": "markdown",
   "metadata": {
    "slideshow": {
     "slide_type": "slide"
    }
   },
   "source": [
    "## Clustering\n",
    "![Clusters](assets/clusters.png)"
   ]
  },
  {
   "cell_type": "markdown",
   "metadata": {},
   "source": [
    "## Cluster surge\n",
    "![cluster surge](assets/cluster_surge.png)"
   ]
  },
  {
   "cell_type": "markdown",
   "metadata": {
    "slideshow": {
     "slide_type": "slide"
    }
   },
   "source": [
    "## Why python?\n",
    "\n",
    "1. More support for ml library\n",
    "2. Rapid prototype and fast to market\n",
    "3. Data scientist are more familiar with python.\n",
    "4. EDA notebooks in python already. Jupyter <3"
   ]
  },
  {
   "cell_type": "markdown",
   "metadata": {
    "slideshow": {
     "slide_type": "slide"
    }
   },
   "source": [
    "## Things to consider when building a service in python\n",
    "\n",
    "Standard \n",
    "1. Latency and load\n",
    "2. Multithread\n",
    "3. Input data consistency\n",
    "\n",
    "More python specific\n",
    "0. Python 2 or Python 3?!\n",
    "1. How complex is this webservice? \n",
    "2. How to create a standardized python project structure\n",
    "3. Organization support for the language.\n",
    "4. How to manage dependencies and create a good development environment"
   ]
  },
  {
   "cell_type": "markdown",
   "metadata": {
    "slideshow": {
     "slide_type": "slide"
    }
   },
   "source": [
    "## How we structured our python project\n",
    "\n",
    "* pipenv\n",
    "* pyenv\n",
    "* Makefile\n",
    "* pip"
   ]
  },
  {
   "cell_type": "markdown",
   "metadata": {
    "slideshow": {
     "slide_type": "slide"
    }
   },
   "source": [
    "# Things I wish I knew before the project\n",
    "\n",
    "## Doc test/ nosetest\n",
    " * Doc test and why you should use it\n",
    " * Common complain about python for production is dynamic type, super scary. \n",
    " * Test is important\n",
    " \n",
    "## Common library can be super helpful"
   ]
  }
 ],
 "metadata": {
  "celltoolbar": "Slideshow",
  "kernelspec": {
   "display_name": "Python 3",
   "language": "python",
   "name": "python3"
  },
  "language_info": {
   "codemirror_mode": {
    "name": "ipython",
    "version": 3
   },
   "file_extension": ".py",
   "mimetype": "text/x-python",
   "name": "python",
   "nbconvert_exporter": "python",
   "pygments_lexer": "ipython3",
   "version": "3.6.2"
  }
 },
 "nbformat": 4,
 "nbformat_minor": 2
}

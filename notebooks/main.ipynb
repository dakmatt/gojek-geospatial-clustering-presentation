{
 "cells": [
  {
   "cell_type": "markdown",
   "metadata": {
    "slideshow": {
     "slide_type": "slide"
    }
   },
   "source": [
    "# Data & ML @Go-Jek \n",
    "\n",
    "### 3 December 2018, 7:35pm - 8:05pm\n",
    "\n",
    "#### Guo Jun\n",
    "#### Data Science, Gojek"
   ]
  },
  {
   "cell_type": "markdown",
   "metadata": {
    "slideshow": {
     "slide_type": "slide"
    }
   },
   "source": [
    "## Content\n",
    "\n",
    "1. The problem of surge pricing\n",
    "2. Why we needed clustering for better surge\n",
    "3. Why we picked python to write the clustering service\n",
    "4. What we learnt"
   ]
  },
  {
   "cell_type": "markdown",
   "metadata": {
    "slideshow": {
     "slide_type": "slide"
    }
   },
   "source": [
    "## Why Surge Pricing?\n",
    "\n",
    "1. Helps ensure a reliable service.\n",
    "2. Defend for our supply of drivers.\n",
    "\n",
    "Surge is the manipulating in real time situation of market (demand & supply)\n",
    "disequilibrium to bring market back to equilibrium.\n"
   ]
  },
  {
   "cell_type": "markdown",
   "metadata": {
    "slideshow": {
     "slide_type": "slide"
    }
   },
   "source": [
    "## Economics 101\n",
    "![Economics 101](assets/surge_econ.jpg)\n",
    "\n",
    "We maximise number of completed bookings when we set price at P*. "
   ]
  },
  {
   "cell_type": "markdown",
   "metadata": {
    "slideshow": {
     "slide_type": "slide"
    }
   },
   "source": [
    "## Our initial version of surge\n",
    "\n",
    "Applies a formula on spaces divided into buckets of grid shape where the inputs are demand and supply of the area.\n",
    "Looks something like this:\n",
    "\n",
    "![Naive Surge](assets/naive_surge.png)\n",
    "\n",
    "It actually works pretty a-okay!"
   ]
  },
  {
   "cell_type": "markdown",
   "metadata": {
    "slideshow": {
     "slide_type": "subslide"
    }
   },
   "source": [
    "### What are some issues?\n",
    "\n",
    "* Hackable (Walk to the next street etc...)\n",
    "\n",
    "TODO: ADD SOME PICS\n",
    "https://www.telegraph.co.uk/technology/2017/08/02/uber-drivers-gang-cause-surge-pricing-research-says/\n",
    "https://www.bbc.com/news/av/business-42661404/surge-pricing-how-it-works-and-how-to-avoid-it"
   ]
  },
  {
   "cell_type": "markdown",
   "metadata": {
    "slideshow": {
     "slide_type": "subslide"
    }
   },
   "source": [
    "* Slow to react (Not predictive)\n",
    "* Just ugly"
   ]
  },
  {
   "cell_type": "markdown",
   "metadata": {
    "slideshow": {
     "slide_type": "subslide"
    }
   },
   "source": [
    "We need to find a way to group similar \"geospatial buckets\" sounds like a clustering problem."
   ]
  },
  {
   "cell_type": "markdown",
   "metadata": {
    "slideshow": {
     "slide_type": "slide"
    }
   },
   "source": [
    "## Clustering\n",
    "![Clusters](assets/clusters.png)"
   ]
  },
  {
   "cell_type": "markdown",
   "metadata": {
    "slideshow": {
     "slide_type": "slide"
    }
   },
   "source": [
    "## Cluster surge\n",
    "![cluster surge](assets/cluster_surge.png)\n",
    "\n",
    "Looks awesome! Let's take it deploy this!"
   ]
  },
  {
   "cell_type": "markdown",
   "metadata": {
    "slideshow": {
     "slide_type": "slide"
    }
   },
   "source": [
    "## Shall we do it in python?\n",
    "\n",
    "1. The EDA already done in python. Jupyter <3\n",
    "2. Prebuilt machine learning libraries\n",
    "3. Data scientists are more usually more familiar with python, easier to debug\n",
    "\n",
    "Seems like a no brainer..."
   ]
  },
  {
   "cell_type": "markdown",
   "metadata": {
    "slideshow": {
     "slide_type": "subslide"
    }
   },
   "source": [
    "### Let's get started...\n",
    "\n",
    "**First question**: \n",
    "Python 2 or 3?"
   ]
  },
  {
   "cell_type": "markdown",
   "metadata": {
    "slideshow": {
     "slide_type": "subslide"
    }
   },
   "source": [
    "Having a headache already..."
   ]
  },
  {
   "cell_type": "markdown",
   "metadata": {
    "slideshow": {
     "slide_type": "subslide"
    }
   },
   "source": [
    "**Second question**: \n",
    "How do we manage dependencies and environment?\n",
    "\n",
    "* pyenv + pipenv?\n",
    "* conda?\n",
    "* pyenv + conda?\n",
    "* pip + virtualenv?"
   ]
  },
  {
   "cell_type": "markdown",
   "metadata": {
    "slideshow": {
     "slide_type": "subslide"
    }
   },
   "source": [
    "![Python Environment](assets/xkcd_python_environment_2x.png))\n",
    "\n",
    "<center>“Python Environment” by xkcd</center>"
   ]
  },
  {
   "cell_type": "markdown",
   "metadata": {
    "slideshow": {
     "slide_type": "subslide"
    }
   },
   "source": [
    "**Third question**: \n",
    "Seems like we have to maintain the features in our service. Do we have a database migration strategy for it?"
   ]
  },
  {
   "cell_type": "markdown",
   "metadata": {
    "slideshow": {
     "slide_type": "subslide"
    }
   },
   "source": [
    "How do we monitor the webservice?"
   ]
  },
  {
   "cell_type": "markdown",
   "metadata": {
    "slideshow": {
     "slide_type": "subslide"
    }
   },
   "source": [
    "Do we have a rollback strategy for a bad model?"
   ]
  },
  {
   "cell_type": "markdown",
   "metadata": {
    "slideshow": {
     "slide_type": "subslide"
    }
   },
   "source": [
    "..."
   ]
  },
  {
   "cell_type": "markdown",
   "metadata": {
    "slideshow": {
     "slide_type": "slide"
    }
   },
   "source": [
    "## Are you ready to deploy a python model? :)\n",
    "\n",
    "Most of the time, it might be easier to work with a language that is more familiar in the organization. \n",
    "\n",
    "If so... here are some of the things my team learnt"
   ]
  },
  {
   "cell_type": "markdown",
   "metadata": {
    "slideshow": {
     "slide_type": "subslide"
    }
   },
   "source": [
    "## A project structure \n",
    "\n",
    "A standardize way of managing python project and environment. \n",
    "Making it reproducible across machines and amongst the team. \n",
    "You just have to do it once. \n",
    "\n",
    "Project structure for this presentation\n",
    "```\n",
    "❯ tree\n",
    ".\n",
    "├── Makefile                                    <- Makefile with commands like `make present`\n",
    "├── README.md                                   <- The top-level README for developers using this project.\n",
    "├── environment.yaml                            <- The top-level README for developers using this project.\n",
    "└── notebooks                                   <- Jupyter notebooks for this presentation.\n",
    "    ├── assets                                  <- Assets to store images, video.\n",
    "    │   ├── cluster_surge.png\n",
    "    │   ├── clusters.png\n",
    "    │   ├── naive_surge.png\n",
    "    │   ├── osm_vector_small.png\n",
    "    │   ├── surge_econ.jpg\n",
    "    │   └── xkcd_python_environment_2x.png\n",
    "    ├── main.ipynb\n",
    "    └── main.slides.html\n",
    "```\n",
    "\n",
    "pyenv + conda"
   ]
  },
  {
   "cell_type": "markdown",
   "metadata": {
    "slideshow": {
     "slide_type": "subslide"
    }
   },
   "source": [
    "### Checkout cookiecutter data science for some inspiration\n",
    "\n",
    "```\n",
    "├── LICENSE\n",
    "├── Makefile           <- Makefile with commands like `make data` or `make train`\n",
    "├── README.md          <- The top-level README for developers using this project.\n",
    "├── data\n",
    "│   ├── external       <- Data from third party sources.\n",
    "│   ├── interim        <- Intermediate data that has been transformed.\n",
    "│   ├── processed      <- The final, canonical data sets for modeling.\n",
    "│   └── raw            <- The original, immutable data dump.\n",
    "│\n",
    "├── docs               <- A default Sphinx project; see sphinx-doc.org for details\n",
    "│\n",
    "├── models             <- Trained and serialized models, model predictions, or model summaries\n",
    "│\n",
    "├── notebooks          <- Jupyter notebooks. Naming convention is a number (for ordering),\n",
    "│                         the creator's initials, and a short `-` delimited description, e.g.\n",
    "│                         `1.0-jqp-initial-data-exploration`.\n",
    "│\n",
    "├── references         <- Data dictionaries, manuals, and all other explanatory materials.\n",
    "│\n",
    "├── reports            <- Generated analysis as HTML, PDF, LaTeX, etc.\n",
    "│   └── figures        <- Generated graphics and figures to be used in reporting\n",
    "│\n",
    "├── requirements.txt   <- The requirements file for reproducing the analysis environment, e.g.\n",
    "│                         generated with `pip freeze > requirements.txt`\n",
    "│\n",
    "├── setup.py           <- Make this project pip installable with `pip install -e`\n",
    "├── src                <- Source code for use in this project.\n",
    "│   ├── __init__.py    <- Makes src a Python module\n",
    "│   │\n",
    "│   ├── data           <- Scripts to download or generate data\n",
    "│   │   └── make_dataset.py\n",
    "│   │\n",
    "│   ├── features       <- Scripts to turn raw data into features for modeling\n",
    "│   │   └── build_features.py\n",
    "│   │\n",
    "│   ├── models         <- Scripts to train models and then use trained models to make\n",
    "│   │   │                 predictions\n",
    "│   │   ├── predict_model.py\n",
    "│   │   └── train_model.py\n",
    "│   │\n",
    "│   └── visualization  <- Scripts to create exploratory and results oriented visualizations\n",
    "│       └── visualize.py\n",
    "│\n",
    "└── tox.ini            <- tox file with settings for running tox; see tox.testrun.org\n",
    "```\n",
    "\n",
    "https://drivendata.github.io/cookiecutter-data-science/"
   ]
  },
  {
   "cell_type": "markdown",
   "metadata": {},
   "source": [
    "## Coding standard\n",
    "\n",
    "Common complain that python is loosely typed etc.. \n",
    "Can consider doctest"
   ]
  },
  {
   "cell_type": "markdown",
   "metadata": {
    "slideshow": {
     "slide_type": "subslide"
    }
   },
   "source": [
    "### Doctest"
   ]
  },
  {
   "cell_type": "code",
   "execution_count": 2,
   "metadata": {
    "slideshow": {
     "slide_type": "subslide"
    }
   },
   "outputs": [
    {
     "name": "stdout",
     "output_type": "stream",
     "text": [
      "**********************************************************************\n",
      "File \"__main__\", line 16, in NoName\n",
      "Failed example:\n",
      "    add_five(x)\n",
      "Expected:\n",
      "    21\n",
      "Got:\n",
      "    25\n"
     ]
    }
   ],
   "source": [
    "def add_five(i):\n",
    "    \"\"\"Dummy function to add five to integer\n",
    "    \n",
    "    Args:\n",
    "      i (int):\n",
    "          Input integer\n",
    "          \n",
    "    Returns:\n",
    "      int: input integer + 5\n",
    "      \n",
    "    Example:\n",
    "      >>> i = 5\n",
    "      >>> add_five(i)\n",
    "      10\n",
    "      >>> x = 20\n",
    "      >>> add_five(x)\n",
    "      21\n",
    "      \n",
    "    \"\"\"\n",
    "    return i + 5\n",
    "\n",
    "import doctest\n",
    "doctest.run_docstring_examples(add_five, globals())"
   ]
  },
  {
   "cell_type": "markdown",
   "metadata": {
    "slideshow": {
     "slide_type": "slide"
    }
   },
   "source": [
    "## Complex and scale"
   ]
  },
  {
   "cell_type": "markdown",
   "metadata": {
    "slideshow": {
     "slide_type": "slide"
    }
   },
   "source": [
    "## Things to consider when building a service\n",
    "\n",
    "1. Latency and throughput of this service\n",
    "2. Is this stateful? If yes, do you have a migration strategy"
   ]
  },
  {
   "cell_type": "markdown",
   "metadata": {
    "slideshow": {
     "slide_type": "slide"
    }
   },
   "source": [
    "## Things to consider when building a service in python\n",
    "\n",
    "Standard \n",
    "1. Latency and load\n",
    "2. Multithread\n",
    "3. Input data consistency\n",
    "\n",
    "More python specific\n",
    "0. Python 2 or Python 3?!\n",
    "1. How complex is this webservice? \n",
    "2. How to create a standardized python project structure\n",
    "3. Organization support for the language.\n",
    "4. How to manage dependencies and create a good development environment"
   ]
  },
  {
   "cell_type": "markdown",
   "metadata": {
    "slideshow": {
     "slide_type": "slide"
    }
   },
   "source": [
    "## How we structured our python project\n",
    "\n",
    "* pipenv\n",
    "* pyenv\n",
    "* Makefile\n",
    "* pip"
   ]
  },
  {
   "cell_type": "markdown",
   "metadata": {
    "slideshow": {
     "slide_type": "slide"
    }
   },
   "source": [
    "# Things I wish I knew before the project\n",
    "\n",
    "## Doc test/ nosetest\n",
    " * Doc test and why you should use it\n",
    " * Common complain about python for production is dynamic type, super scary. \n",
    " * Test is important\n",
    " \n",
    "## Common library can be super helpful"
   ]
  },
  {
   "cell_type": "markdown",
   "metadata": {
    "slideshow": {
     "slide_type": "slide"
    }
   },
   "source": [
    "## Doctest"
   ]
  },
  {
   "cell_type": "code",
   "execution_count": 19,
   "metadata": {
    "slideshow": {
     "slide_type": "subslide"
    }
   },
   "outputs": [
    {
     "name": "stdout",
     "output_type": "stream",
     "text": [
      "**********************************************************************\n",
      "File \"__main__\", line 16, in NoName\n",
      "Failed example:\n",
      "    add_five(x)\n",
      "Expected:\n",
      "    21\n",
      "Got:\n",
      "    25\n"
     ]
    }
   ],
   "source": [
    "def add_five(i):\n",
    "    \"\"\"Dummy function to add five to integer\n",
    "    \n",
    "    Args:\n",
    "      i (int):\n",
    "          Input integer\n",
    "          \n",
    "    Returns:\n",
    "      int: input integer + 5\n",
    "      \n",
    "    Example:\n",
    "      >>> i = 5\n",
    "      >>> add_five(i)\n",
    "      10\n",
    "      >>> x = 20\n",
    "      >>> add_five(x)\n",
    "      21\n",
    "      \n",
    "    \"\"\"\n",
    "    return i + 5\n",
    "\n",
    "import doctest\n",
    "doctest.run_docstring_examples(add_five, globals())"
   ]
  }
 ],
 "metadata": {
  "celltoolbar": "Slideshow",
  "kernelspec": {
   "display_name": "Python 3",
   "language": "python",
   "name": "python3"
  },
  "language_info": {
   "codemirror_mode": {
    "name": "ipython",
    "version": 3
   },
   "file_extension": ".py",
   "mimetype": "text/x-python",
   "name": "python",
   "nbconvert_exporter": "python",
   "pygments_lexer": "ipython3",
   "version": "3.6.2"
  }
 },
 "nbformat": 4,
 "nbformat_minor": 2
}
